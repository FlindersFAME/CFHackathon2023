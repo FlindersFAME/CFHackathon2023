{
 "cells": [
  {
   "cell_type": "code",
   "execution_count": 69,
   "id": "f0a48bbf",
   "metadata": {},
   "outputs": [],
   "source": [
    "import pandas as pd\n",
    "import seaborn as sns\n",
    "import matplotlib as plt"
   ]
  },
  {
   "cell_type": "markdown",
   "id": "71fad754",
   "metadata": {},
   "source": [
    "# Get GTDB-Tk annotations"
   ]
  },
  {
   "cell_type": "code",
   "execution_count": 70,
   "id": "03bbdeec",
   "metadata": {
    "scrolled": true
   },
   "outputs": [
    {
     "data": {
      "text/plain": [
       "(75, 20)"
      ]
     },
     "execution_count": 70,
     "metadata": {},
     "output_type": "execute_result"
    }
   ],
   "source": [
    "gtdbtk = pd.read_csv('cross_assembly_gtdbtk.bac120.summary.tsv', sep='\\t')\n",
    "gtdbtk.shape"
   ]
  },
  {
   "cell_type": "code",
   "execution_count": 71,
   "id": "336b4f79",
   "metadata": {},
   "outputs": [],
   "source": [
    "bin_classification = {}\n",
    "\n",
    "for index, row in gtdbtk.iterrows():\n",
    "    bin_classification[row['user_genome']] = row['classification']\n",
    "    \n",
    "# bin_classification"
   ]
  },
  {
   "cell_type": "markdown",
   "id": "6c0deac0",
   "metadata": {},
   "source": [
    "# Get contig to bin mapping"
   ]
  },
  {
   "cell_type": "code",
   "execution_count": 72,
   "id": "770b3dc9",
   "metadata": {},
   "outputs": [
    {
     "data": {
      "text/plain": [
       "(21039, 2)"
      ]
     },
     "execution_count": 72,
     "metadata": {},
     "output_type": "execute_result"
    }
   ],
   "source": [
    "contig_to_bin = pd.read_csv('cross_assembly_contig_to_bin.tsv', sep=',', header = None)\n",
    "contig_to_bin.columns = [\"contig_name\", \"bin_id\"]\n",
    "contig_to_bin.shape"
   ]
  },
  {
   "cell_type": "markdown",
   "id": "ac5ce98f",
   "metadata": {},
   "source": [
    "# Read all_contigs_one_sample_only_788707"
   ]
  },
  {
   "cell_type": "code",
   "execution_count": 73,
   "id": "6412f4c1",
   "metadata": {},
   "outputs": [],
   "source": [
    "contigs = pd.read_csv('all_contigs_one_sample_only_788707.csv', sep=',')\n",
    "contigs = list(contigs['x'])\n",
    "# contigs"
   ]
  },
  {
   "cell_type": "markdown",
   "id": "6d2f360f",
   "metadata": {},
   "source": [
    "## Get taxa of all_contigs_one_sample"
   ]
  },
  {
   "cell_type": "code",
   "execution_count": 74,
   "id": "edf4d661",
   "metadata": {},
   "outputs": [],
   "source": [
    "all_contigs_one_sample_mags = set()\n",
    "all_contigs_one_sample_mags_taxa = set()\n",
    "\n",
    "for index, row in contig_to_bin.iterrows():\n",
    "    if row['contig_name'] in contigs and row['bin_id'] in bin_classification:\n",
    "#         print(row['contig_name'], row['bin_id'], bin_classification[row['bin_id']])\n",
    "        all_contigs_one_sample_mags_taxa.add(bin_classification[row['bin_id']])\n",
    "        all_contigs_one_sample_mags.add(row['bin_id'])\n",
    "        \n",
    "# all_contigs_one_sample_mags_taxa"
   ]
  },
  {
   "cell_type": "code",
   "execution_count": 75,
   "id": "9a9b47cd",
   "metadata": {},
   "outputs": [
    {
     "name": "stdout",
     "output_type": "stream",
     "text": [
      "s__Peptostreptococcus sp900759325\n",
      "s__Haemophilus_D parainfluenzae_K\n",
      "s__Parvimonas micra\n",
      "s__Prevotella salivae\n",
      "s__Gemella morbillorum\n",
      "s__Gemella haemolysans_B\n",
      "s__Prevotella pallens\n",
      "s__Prevotella nanceiensis\n",
      "s__Lactobacillus gasseri\n",
      "s__Streptococcus sp900766505\n",
      "s__Veillonella atypica\n",
      "s__Bulleidia sp900554555\n",
      "s__Mogibacterium diversum\n",
      "s__Staphylococcus aureus\n",
      "s__Eubacterium_B sulci\n",
      "s__Leptotrichia_A sp000469505\n",
      "s__Staphylococcus epidermidis\n",
      "s__Porphyromonas endodontalis\n",
      "s__Oribacterium sinus\n",
      "s__Scardovia wiggsiae\n",
      "s__CAG-793 sp013333035\n",
      "s__Prevotella histicola\n",
      "s__Lancefieldella sp000564995\n",
      "s__Oribacterium sp015258095\n",
      "s__Gemella sanguinis\n",
      "s__Streptococcus gordonii\n",
      "s__Prevotella melaninogenica\n",
      "s__Porphyromonas pasteri\n",
      "s__Pauljensenia pyogenes_A\n",
      "s__Neisseria subflava_C\n",
      "s__Fusobacterium pseudoperiodonticum\n",
      "s__Alloscardovia omnicolens\n",
      "s__Leptotrichia wadei_A\n",
      "s__Abiotrophia sp001815865\n",
      "s__Stomatobaculum longum_A\n",
      "s__Actinomyces graevenitzii\n",
      "36\n"
     ]
    }
   ],
   "source": [
    "single_sample_species = set()\n",
    "\n",
    "for taxa in all_contigs_one_sample_mags_taxa:\n",
    "    \n",
    "    taxa_name = taxa.split(\";\")[-1]\n",
    "    \n",
    "    if taxa_name != \"s__\":\n",
    "        print(taxa_name)\n",
    "        single_sample_species.add(taxa_name)\n",
    "        \n",
    "print(len(single_sample_species))"
   ]
  },
  {
   "cell_type": "markdown",
   "id": "4b531b72",
   "metadata": {},
   "source": [
    "# Read four_samples_above_250meancov_less_one_coeffvar_788707"
   ]
  },
  {
   "cell_type": "code",
   "execution_count": 76,
   "id": "48969eb6",
   "metadata": {},
   "outputs": [],
   "source": [
    "contigs = pd.read_csv('four_samples_above_250meancov_less_one_coeffvar_788707.csv', sep=',')\n",
    "contigs = list(contigs['x'])"
   ]
  },
  {
   "cell_type": "markdown",
   "id": "0ef79453",
   "metadata": {},
   "source": [
    "## Get taxa of four_samples_above_250meancov_less_one_coeffvar"
   ]
  },
  {
   "cell_type": "code",
   "execution_count": 77,
   "id": "2b68cca8",
   "metadata": {},
   "outputs": [],
   "source": [
    "all_contigs_one_sample_mags = set()\n",
    "all_contigs_one_sample_mags_taxa = set()\n",
    "\n",
    "for index, row in contig_to_bin.iterrows():\n",
    "    if row['contig_name'] in contigs and row['bin_id'] in bin_classification:\n",
    "#         print(row['contig_name'], row['bin_id'], bin_classification[row['bin_id']])\n",
    "        all_contigs_one_sample_mags_taxa.add(bin_classification[row['bin_id']])\n",
    "        all_contigs_one_sample_mags.add(row['bin_id'])\n",
    "        \n",
    "# all_contigs_one_sample_mags_taxa"
   ]
  },
  {
   "cell_type": "code",
   "execution_count": 78,
   "id": "ff741a13",
   "metadata": {},
   "outputs": [
    {
     "name": "stdout",
     "output_type": "stream",
     "text": [
      "s__Peptostreptococcus sp900759325\n",
      "s__Parvimonas micra\n",
      "s__Veillonella nakazawae\n",
      "s__Prevotella salivae\n",
      "s__Gemella morbillorum\n",
      "s__Gemella haemolysans_B\n",
      "s__Lactobacillus gasseri\n",
      "s__Streptococcus sp900766505\n",
      "s__Veillonella atypica\n",
      "s__Leptotrichia_A sp000469505\n",
      "s__Nanosynbacter sp900555885\n",
      "s__Staphylococcus epidermidis\n",
      "s__Porphyromonas endodontalis\n",
      "s__CAG-793 sp013333035\n",
      "s__Oribacterium sp015258095\n",
      "s__Prevotella melaninogenica\n",
      "s__Granulicatella sp015264885\n",
      "s__Neisseria subflava_C\n",
      "s__Abiotrophia sp001815865\n",
      "s__Streptococcus salivarius\n",
      "20\n"
     ]
    }
   ],
   "source": [
    "all_samples_species = set()\n",
    "\n",
    "for taxa in all_contigs_one_sample_mags_taxa:\n",
    "    \n",
    "    taxa_name = taxa.split(\";\")[-1]\n",
    "    \n",
    "    if taxa_name != \"s__\":\n",
    "        print(taxa_name)\n",
    "        all_samples_species.add(taxa_name)\n",
    "        \n",
    "print(len(all_samples_species))"
   ]
  },
  {
   "cell_type": "markdown",
   "id": "e04449df",
   "metadata": {},
   "source": [
    "# Compare four_samples vs single_sample contigs"
   ]
  },
  {
   "cell_type": "markdown",
   "id": "91920044",
   "metadata": {},
   "source": [
    "## Species found only across all samples"
   ]
  },
  {
   "cell_type": "code",
   "execution_count": 79,
   "id": "6f37cd55",
   "metadata": {},
   "outputs": [
    {
     "data": {
      "text/plain": [
       "{'s__Granulicatella sp015264885',\n",
       " 's__Nanosynbacter sp900555885',\n",
       " 's__Streptococcus salivarius',\n",
       " 's__Veillonella nakazawae'}"
      ]
     },
     "execution_count": 79,
     "metadata": {},
     "output_type": "execute_result"
    }
   ],
   "source": [
    "all_samples_species.difference(single_sample_species)"
   ]
  },
  {
   "cell_type": "markdown",
   "id": "73758970",
   "metadata": {},
   "source": [
    "## Species found only in a single sample"
   ]
  },
  {
   "cell_type": "code",
   "execution_count": 80,
   "id": "105a41d2",
   "metadata": {},
   "outputs": [
    {
     "data": {
      "text/plain": [
       "{'s__Actinomyces graevenitzii',\n",
       " 's__Alloscardovia omnicolens',\n",
       " 's__Bulleidia sp900554555',\n",
       " 's__Eubacterium_B sulci',\n",
       " 's__Fusobacterium pseudoperiodonticum',\n",
       " 's__Gemella sanguinis',\n",
       " 's__Haemophilus_D parainfluenzae_K',\n",
       " 's__Lancefieldella sp000564995',\n",
       " 's__Leptotrichia wadei_A',\n",
       " 's__Mogibacterium diversum',\n",
       " 's__Oribacterium sinus',\n",
       " 's__Pauljensenia pyogenes_A',\n",
       " 's__Porphyromonas pasteri',\n",
       " 's__Prevotella histicola',\n",
       " 's__Prevotella nanceiensis',\n",
       " 's__Prevotella pallens',\n",
       " 's__Scardovia wiggsiae',\n",
       " 's__Staphylococcus aureus',\n",
       " 's__Stomatobaculum longum_A',\n",
       " 's__Streptococcus gordonii'}"
      ]
     },
     "execution_count": 80,
     "metadata": {},
     "output_type": "execute_result"
    }
   ],
   "source": [
    "single_sample_species.difference(all_samples_species)"
   ]
  },
  {
   "cell_type": "markdown",
   "id": "0f6d71d9",
   "metadata": {},
   "source": [
    "## Species found commonly in a single sample and across all samples"
   ]
  },
  {
   "cell_type": "code",
   "execution_count": 83,
   "id": "1216e2bb",
   "metadata": {},
   "outputs": [
    {
     "data": {
      "text/plain": [
       "{'s__Abiotrophia sp001815865',\n",
       " 's__CAG-793 sp013333035',\n",
       " 's__Gemella haemolysans_B',\n",
       " 's__Gemella morbillorum',\n",
       " 's__Lactobacillus gasseri',\n",
       " 's__Leptotrichia_A sp000469505',\n",
       " 's__Neisseria subflava_C',\n",
       " 's__Oribacterium sp015258095',\n",
       " 's__Parvimonas micra',\n",
       " 's__Peptostreptococcus sp900759325',\n",
       " 's__Porphyromonas endodontalis',\n",
       " 's__Prevotella melaninogenica',\n",
       " 's__Prevotella salivae',\n",
       " 's__Staphylococcus epidermidis',\n",
       " 's__Streptococcus sp900766505',\n",
       " 's__Veillonella atypica'}"
      ]
     },
     "execution_count": 83,
     "metadata": {},
     "output_type": "execute_result"
    }
   ],
   "source": [
    "all_samples_species.intersection(single_sample_species)"
   ]
  },
  {
   "cell_type": "code",
   "execution_count": null,
   "id": "1f38428c",
   "metadata": {},
   "outputs": [],
   "source": []
  }
 ],
 "metadata": {
  "kernelspec": {
   "display_name": "Python 3 (ipykernel)",
   "language": "python",
   "name": "python3"
  },
  "language_info": {
   "codemirror_mode": {
    "name": "ipython",
    "version": 3
   },
   "file_extension": ".py",
   "mimetype": "text/x-python",
   "name": "python",
   "nbconvert_exporter": "python",
   "pygments_lexer": "ipython3",
   "version": "3.9.12"
  }
 },
 "nbformat": 4,
 "nbformat_minor": 5
}
