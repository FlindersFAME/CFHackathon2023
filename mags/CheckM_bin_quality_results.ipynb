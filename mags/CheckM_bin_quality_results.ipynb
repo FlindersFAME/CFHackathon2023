{
 "cells": [
  {
   "cell_type": "code",
   "execution_count": 7,
   "metadata": {},
   "outputs": [],
   "source": [
    "import numpy as np\n",
    "import matplotlib.pyplot as plt"
   ]
  },
  {
   "cell_type": "markdown",
   "metadata": {},
   "source": [
    "# Parse MAG CheckM results"
   ]
  },
  {
   "cell_type": "code",
   "execution_count": 8,
   "metadata": {
    "scrolled": true
   },
   "outputs": [],
   "source": [
    "metacoag_bins = {}\n",
    "\n",
    "with open(\"cross_assembly_checkm-report.txt\", \"r\") as checkm_file:\n",
    "    for line in checkm_file.readlines():\n",
    "        \n",
    "        line = line.strip()\n",
    "        \n",
    "        if not (line.startswith(\"-\") or line.startswith(\"Bin\")):\n",
    "            strings = line.split()\n",
    "            \n",
    "            metacoag_bins[strings[0]] = (float(strings[11]), float(strings[12]))\n"
   ]
  },
  {
   "cell_type": "markdown",
   "metadata": {},
   "source": [
    "# Get completeness of bins"
   ]
  },
  {
   "cell_type": "code",
   "execution_count": 9,
   "metadata": {},
   "outputs": [
    {
     "name": "stdout",
     "output_type": "stream",
     "text": [
      "nc: 17\n",
      "mq: 42\n",
      "lq: 16\n"
     ]
    }
   ],
   "source": [
    "nc = 0\n",
    "mq = 0\n",
    "lq = 0\n",
    "\n",
    "for mybin in metacoag_bins:\n",
    "    if metacoag_bins[mybin][0] > 90:\n",
    "        nc += 1\n",
    "    elif metacoag_bins[mybin][0] > 50:\n",
    "        mq += 1\n",
    "    else:\n",
    "        lq += 1\n",
    "        \n",
    "print(\"nc:\", nc)\n",
    "print(\"mq:\", mq)\n",
    "print(\"lq:\", lq)"
   ]
  },
  {
   "cell_type": "markdown",
   "metadata": {},
   "source": [
    "# Get contamination of bins"
   ]
  },
  {
   "cell_type": "code",
   "execution_count": 10,
   "metadata": {},
   "outputs": [
    {
     "name": "stdout",
     "output_type": "stream",
     "text": [
      "nc: 38\n",
      "mq: 16\n",
      "lq: 21\n"
     ]
    }
   ],
   "source": [
    "nc = 0\n",
    "mq = 0\n",
    "lq = 0\n",
    "\n",
    "for mybin in metacoag_bins:\n",
    "    if metacoag_bins[mybin][1] < 5:\n",
    "        nc += 1\n",
    "    elif metacoag_bins[mybin][1] < 10:\n",
    "        mq += 1\n",
    "    else:\n",
    "        lq += 1\n",
    "        \n",
    "print(\"nc:\", nc)\n",
    "print(\"mq:\", mq)\n",
    "print(\"lq:\", lq)"
   ]
  },
  {
   "cell_type": "markdown",
   "metadata": {},
   "source": [
    "# Get near complete, medium quality and low quality bins"
   ]
  },
  {
   "cell_type": "code",
   "execution_count": 11,
   "metadata": {},
   "outputs": [
    {
     "name": "stdout",
     "output_type": "stream",
     "text": [
      "bin_41\n",
      "bin_16\n",
      "bin_47\n",
      "bin_29\n",
      "bin_55\n",
      "bin_63\n",
      "bin_89\n",
      "bin_6\n",
      "bin_37\n",
      "nc: 9\n",
      "mq: 31\n",
      "lq: 35\n"
     ]
    }
   ],
   "source": [
    "nc = 0\n",
    "mq = 0\n",
    "lq = 0\n",
    "\n",
    "for mybin in metacoag_bins:\n",
    "    if metacoag_bins[mybin][0] > 90 and metacoag_bins[mybin][1] < 5:\n",
    "        nc += 1\n",
    "        print(mybin)\n",
    "    elif metacoag_bins[mybin][0] > 50 and metacoag_bins[mybin][1] < 10:\n",
    "        mq += 1\n",
    "    else:\n",
    "        lq += 1\n",
    "        \n",
    "print()\n",
    "print(\"nc:\", nc)\n",
    "print(\"mq:\", mq)\n",
    "print(\"lq:\", lq)"
   ]
  },
  {
   "cell_type": "code",
   "execution_count": null,
   "metadata": {},
   "outputs": [],
   "source": []
  }
 ],
 "metadata": {
  "kernelspec": {
   "display_name": "Python 3 (ipykernel)",
   "language": "python",
   "name": "python3"
  },
  "language_info": {
   "codemirror_mode": {
    "name": "ipython",
    "version": 3
   },
   "file_extension": ".py",
   "mimetype": "text/x-python",
   "name": "python",
   "nbconvert_exporter": "python",
   "pygments_lexer": "ipython3",
   "version": "3.9.12"
  }
 },
 "nbformat": 4,
 "nbformat_minor": 2
}
