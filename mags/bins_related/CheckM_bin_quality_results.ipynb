{
 "cells": [
  {
   "cell_type": "code",
   "execution_count": 1,
   "metadata": {},
   "outputs": [],
   "source": [
    "import numpy as np\n",
    "import matplotlib.pyplot as plt"
   ]
  },
  {
   "cell_type": "markdown",
   "metadata": {},
   "source": [
    "# Parse MAG CheckM results"
   ]
  },
  {
   "cell_type": "code",
   "execution_count": 8,
   "metadata": {
    "scrolled": true
   },
   "outputs": [
    {
     "data": {
      "text/plain": [
       "{'bin_41': (100.0, 0.0),\n",
       " 'bin_16': (99.84, 3.45),\n",
       " 'bin_38': (98.28, 71.19),\n",
       " 'bin_57': (98.12, 290.18),\n",
       " 'bin_47': (96.55, 0.0),\n",
       " 'bin_29': (96.55, 3.45),\n",
       " 'bin_55': (95.92, 1.72),\n",
       " 'bin_4': (95.69, 12.93),\n",
       " 'bin_81': (94.83, 72.02),\n",
       " 'bin_63': (94.83, 0.86),\n",
       " 'bin_46': (94.83, 5.49),\n",
       " 'bin_74': (92.65, 61.36),\n",
       " 'bin_48': (91.79, 9.48),\n",
       " 'bin_89': (91.38, 0.0),\n",
       " 'bin_24': (91.22, 18.65),\n",
       " 'bin_6': (90.6, 1.72),\n",
       " 'bin_37': (90.36, 3.45),\n",
       " 'bin_9': (87.77, 28.34),\n",
       " 'bin_32': (87.62, 0.0),\n",
       " 'bin_59': (87.07, 0.0),\n",
       " 'bin_45': (86.52, 0.0),\n",
       " 'bin_50': (86.21, 1.72),\n",
       " 'bin_53': (83.86, 6.03),\n",
       " 'bin_82': (82.84, 52.07),\n",
       " 'bin_61': (82.6, 5.17),\n",
       " 'bin_33': (82.41, 5.17),\n",
       " 'bin_80': (82.29, 1.72),\n",
       " 'bin_67': (82.01, 9.64),\n",
       " 'bin_66': (81.5, 10.92),\n",
       " 'bin_42': (81.27, 4.31),\n",
       " 'bin_31': (77.43, 6.9),\n",
       " 'bin_1': (77.39, 1.72),\n",
       " 'bin_79': (77.24, 13.09),\n",
       " 'bin_39': (76.77, 13.11),\n",
       " 'bin_86': (76.72, 2.59),\n",
       " 'bin_84': (76.55, 11.21),\n",
       " 'bin_68': (76.04, 15.52),\n",
       " 'bin_70': (75.97, 9.48),\n",
       " 'bin_5': (75.55, 3.45),\n",
       " 'bin_56': (74.92, 0.86),\n",
       " 'bin_11': (74.82, 23.35),\n",
       " 'bin_12': (74.37, 6.9),\n",
       " 'bin_62': (74.14, 1.72),\n",
       " 'bin_65': (69.56, 42.12),\n",
       " 'bin_40': (68.9, 1.72),\n",
       " 'bin_19': (68.1, 3.61),\n",
       " 'bin_85': (67.82, 10.74),\n",
       " 'bin_28': (67.59, 3.45),\n",
       " 'bin_25': (67.4, 7.76),\n",
       " 'bin_3': (63.44, 7.76),\n",
       " 'bin_98': (62.12, 0.0),\n",
       " 'bin_87': (60.89, 14.66),\n",
       " 'bin_101': (60.66, 13.95),\n",
       " 'bin_52': (59.64, 1.72),\n",
       " 'bin_60': (58.62, 1.72),\n",
       " 'bin_99': (57.68, 10.82),\n",
       " 'bin_78': (57.18, 5.17),\n",
       " 'bin_54': (56.68, 5.17),\n",
       " 'bin_20': (54.92, 7.58),\n",
       " 'bin_58': (48.12, 0.0),\n",
       " 'bin_26': (45.61, 11.21),\n",
       " 'bin_88': (45.2, 1.72),\n",
       " 'bin_30': (45.14, 6.9),\n",
       " 'bin_71': (44.28, 0.0),\n",
       " 'bin_0': (40.99, 3.03),\n",
       " 'bin_51': (40.6, 1.72),\n",
       " 'bin_96': (40.28, 1.72),\n",
       " 'bin_18': (39.58, 1.72),\n",
       " 'bin_95': (36.52, 0.0),\n",
       " 'bin_103': (35.86, 12.07),\n",
       " 'bin_43': (32.6, 0.78),\n",
       " 'bin_2': (31.19, 0.0),\n",
       " 'bin_17': (29.62, 6.9),\n",
       " 'bin_69': (25.71, 0.0),\n",
       " 'bin_15': (20.53, 0.0)}"
      ]
     },
     "execution_count": 8,
     "metadata": {},
     "output_type": "execute_result"
    }
   ],
   "source": [
    "metacoag_bins = {}\n",
    "\n",
    "with open(\"cross_assembly_checkm-report.txt\", \"r\") as checkm_file:\n",
    "    for line in checkm_file.readlines():\n",
    "        \n",
    "        line = line.strip()\n",
    "        \n",
    "        if not (line.startswith(\"-\") or line.startswith(\"Bin\")):\n",
    "            strings = line.split()\n",
    "            \n",
    "            metacoag_bins[strings[0]] = (float(strings[11]), float(strings[12]))\n",
    "metacoag_bins"
   ]
  },
  {
   "cell_type": "markdown",
   "metadata": {},
   "source": [
    "# Get completeness of bins"
   ]
  },
  {
   "cell_type": "code",
   "execution_count": 3,
   "metadata": {},
   "outputs": [
    {
     "name": "stdout",
     "output_type": "stream",
     "text": [
      "nc: 17\n",
      "mq: 42\n",
      "lq: 16\n"
     ]
    }
   ],
   "source": [
    "nc = 0\n",
    "mq = 0\n",
    "lq = 0\n",
    "\n",
    "for mybin in metacoag_bins:\n",
    "    if metacoag_bins[mybin][0] > 90:\n",
    "        nc += 1\n",
    "    elif metacoag_bins[mybin][0] > 50:\n",
    "        mq += 1\n",
    "    else:\n",
    "        lq += 1\n",
    "        \n",
    "print(\"nc:\", nc)\n",
    "print(\"mq:\", mq)\n",
    "print(\"lq:\", lq)"
   ]
  },
  {
   "cell_type": "markdown",
   "metadata": {},
   "source": [
    "# Get contamination of bins"
   ]
  },
  {
   "cell_type": "code",
   "execution_count": 4,
   "metadata": {},
   "outputs": [
    {
     "name": "stdout",
     "output_type": "stream",
     "text": [
      "nc: 38\n",
      "mq: 16\n",
      "lq: 21\n"
     ]
    }
   ],
   "source": [
    "nc = 0\n",
    "mq = 0\n",
    "lq = 0\n",
    "\n",
    "for mybin in metacoag_bins:\n",
    "    if metacoag_bins[mybin][1] < 5:\n",
    "        nc += 1\n",
    "    elif metacoag_bins[mybin][1] < 10:\n",
    "        mq += 1\n",
    "    else:\n",
    "        lq += 1\n",
    "        \n",
    "print(\"nc:\", nc)\n",
    "print(\"mq:\", mq)\n",
    "print(\"lq:\", lq)"
   ]
  },
  {
   "cell_type": "markdown",
   "metadata": {},
   "source": [
    "# Get near complete, medium quality and low quality bins"
   ]
  },
  {
   "cell_type": "code",
   "execution_count": 5,
   "metadata": {},
   "outputs": [
    {
     "name": "stdout",
     "output_type": "stream",
     "text": [
      "bin_41\n",
      "bin_16\n",
      "bin_47\n",
      "bin_29\n",
      "bin_55\n",
      "bin_63\n",
      "bin_89\n",
      "bin_6\n",
      "bin_37\n",
      "\n",
      "nc: 9\n",
      "mq: 31\n",
      "lq: 35\n"
     ]
    }
   ],
   "source": [
    "nc = 0\n",
    "mq = 0\n",
    "lq = 0\n",
    "\n",
    "for mybin in metacoag_bins:\n",
    "    if metacoag_bins[mybin][0] > 90 and metacoag_bins[mybin][1] < 5:\n",
    "        nc += 1\n",
    "        print(mybin)\n",
    "    elif metacoag_bins[mybin][0] > 50 and metacoag_bins[mybin][1] < 10:\n",
    "        mq += 1\n",
    "    else:\n",
    "        lq += 1\n",
    "        \n",
    "print()\n",
    "print(\"nc:\", nc)\n",
    "print(\"mq:\", mq)\n",
    "print(\"lq:\", lq)"
   ]
  },
  {
   "cell_type": "markdown",
   "metadata": {},
   "source": [
    "# Scatter plota of MAG quality"
   ]
  },
  {
   "cell_type": "code",
   "execution_count": 14,
   "metadata": {},
   "outputs": [
    {
     "data": {
      "image/png": "[encoded data removed]",
      "text/plain": [
       "<Figure size 500x500 with 1 Axes>"
      ]
     },
     "metadata": {},
     "output_type": "display_data"
    }
   ],
   "source": [
    "x = []\n",
    "y = []\n",
    "\n",
    "for mybin in metacoag_bins:\n",
    "    x.append(metacoag_bins[mybin][0])\n",
    "    y.append(metacoag_bins[mybin][1])\n",
    "    \n",
    "# Porphyromonas endodontalis\n",
    "\n",
    "plt.figure(figsize=(5,5))\n",
    "\n",
    "plt.scatter(x, y, alpha=0.5)\n",
    "plt.ylabel(\"Contamination (%)\")\n",
    "plt.xlabel(\"Completeness (%)\")\n",
    "plt.show()\n",
    "# plt.savefig('comp_vs_cont.png', format=\"png\", dpi=300, bbox_inches='tight')\n"
   ]
  },
  {
   "cell_type": "code",
   "execution_count": null,
   "metadata": {},
   "outputs": [],
   "source": []
  }
 ],
 "metadata": {
  "kernelspec": {
   "display_name": "Python 3 (ipykernel)",
   "language": "python",
   "name": "python3"
  },
  "language_info": {
   "codemirror_mode": {
    "name": "ipython",
    "version": 3
   },
   "file_extension": ".py",
   "mimetype": "text/x-python",
   "name": "python",
   "nbconvert_exporter": "python",
   "pygments_lexer": "ipython3",
   "version": "3.9.12"
  }
 },
 "nbformat": 4,
 "nbformat_minor": 2
}
