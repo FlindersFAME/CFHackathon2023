{
 "cells": [
  {
   "cell_type": "code",
   "execution_count": null,
   "id": "b56d732c",
   "metadata": {},
   "outputs": [],
   "source": [
    "import os\n",
    "from Bio import SeqIO\n",
    "\n",
    "contig_bins_folder = \"/home/nala0006/scratch/atavide-dev/minion/cross-assembly/metacoag/bins/\"\n",
    "\n",
    "files = os.listdir(contig_bins_folder)\n",
    "\n",
    "with open(\"bin_lengths.txt\", \"w\") as myfile:\n",
    "    \n",
    "    for bin_file in files:\n",
    "        bin_length = 0\n",
    "        G_count = 0\n",
    "        C_count = 0\n",
    "        \n",
    "        bin_name = bin_file.strip().split(\"/\")[-1]\n",
    "        for record in SeqIO.parse(contig_bins_folder+bin_file, \"fasta\"):\n",
    "            bin_length += len(record.seq)\n",
    "            G_count += str(record.seq).count(\"G\")\n",
    "            C_count += str(record.seq).count(\"C\")\n",
    "        \n",
    "        myfile.write(f\"{bin_name},{bin_length},{(G_count+C_count)/bin_length}\\n\")\n",
    "        "
   ]
  }
 ],
 "metadata": {
  "kernelspec": {
   "display_name": "Python 3 (ipykernel)",
   "language": "python",
   "name": "python3"
  },
  "language_info": {
   "codemirror_mode": {
    "name": "ipython",
    "version": 3
   },
   "file_extension": ".py",
   "mimetype": "text/x-python",
   "name": "python",
   "nbconvert_exporter": "python",
   "pygments_lexer": "ipython3",
   "version": "3.9.12"
  }
 },
 "nbformat": 4,
 "nbformat_minor": 5
}
