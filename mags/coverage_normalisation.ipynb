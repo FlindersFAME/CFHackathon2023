{
 "cells": [
  {
   "cell_type": "code",
   "execution_count": 5,
   "metadata": {},
   "outputs": [],
   "source": [
    "import pandas as pd\n",
    "import numpy as np\n",
    "\n",
    "##coverage\n",
    "coverage_file =  \"coverage_with_header.tsv\"\n",
    "coverage_df = pd.read_csv(coverage_file, delimiter= '\\t', index_col=False )\n",
    "#(coverage_df) \n",
    "\n",
    "# we have deleted column 57 in the coverage_with_header.tsv sheet. It seems wrong as the header did not match a sample.\n",
    "\n",
    "# NP probably accidentally inserted it.\n",
    "\n",
    "# No dramas\n",
    "\n",
    "## stats file \n",
    "\n",
    "stats_file =  \"CF_minion_stats_deconseq.tsv\"\n",
    "stats_df = pd.read_csv(stats_file, delimiter= '\\t', index_col=False )\n",
    "#print(stats_df) \n",
    "\n",
    "#print(stats_df.columns)\n",
    "\n",
    "#print(coverage_df.columns)\n",
    "\n",
    "# clean the sample names in the coverage - colnames so need to iterate\n",
    "coverage_df.columns = [col.replace(\" Mean\", \"\") for col in coverage_df.columns]\n",
    "coverage_df.columns = [col.replace(\"assembly.fasta/\", \"\") for col in coverage_df.columns]\n",
    "\n",
    "\n",
    "# clean the sample names in the stats df\n",
    "stats_df['Sample name'] = [sample.replace(\"qc-host-removal/\", \"\") for sample in stats_df['Sample name']]\n",
    "stats_df['Number of reads'] = [sample.replace(\",\", \"\") for sample in stats_df['Number of reads']]\n",
    "\n",
    "\n",
    "# starting from columns 2 in the coverage df, this is the same as the stats df row starting at 1\n",
    "coverage_df.columns[1] == stats_df['Sample name'][0]\n",
    "\n",
    "\n",
    "for i in range(len(stats_df['Sample name'])): \n",
    "    coverage_df[coverage_df.columns[i+1]] = coverage_df[coverage_df.columns[i+1]].div(int(stats_df['Number of reads'][i]))*1000000\n",
    "\n",
    "coverage_df.to_csv( \"corrected_coverage.tsv\", sep=\"\\t\", index=False)   \n",
    "\n",
    "\n",
    "\n",
    "\n",
    "\n",
    "\n",
    "\n",
    "\n",
    "\n",
    "\n"
   ]
  }
 ],
 "metadata": {
  "kernelspec": {
   "display_name": "Python 3",
   "language": "python",
   "name": "python3"
  },
  "language_info": {
   "codemirror_mode": {
    "name": "ipython",
    "version": 3
   },
   "file_extension": ".py",
   "mimetype": "text/x-python",
   "name": "python",
   "nbconvert_exporter": "python",
   "pygments_lexer": "ipython3",
   "version": "3.10.9"
  },
  "orig_nbformat": 4,
  "vscode": {
   "interpreter": {
    "hash": "ee1c72a7b31b2cb98b3aa145a6c965decb06c8d69b68cf79d218670e376f9b4d"
   }
  }
 },
 "nbformat": 4,
 "nbformat_minor": 2
}
