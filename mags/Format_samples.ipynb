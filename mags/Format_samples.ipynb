{
 "cells": [
  {
   "cell_type": "code",
   "execution_count": 9,
   "id": "7e5c8725",
   "metadata": {},
   "outputs": [
    {
     "name": "stdout",
     "output_type": "stream",
     "text": [
      "1068841_20180306_S\n",
      "1112926_20171212_S\n",
      "1128691_20171218_S\n",
      "1128691_20180116_S\n",
      "1255498_20171212_S\n",
      "1282052_20180206_S\n",
      "1316935_20180417_S\n",
      "1316979_20171215_S\n",
      "1447437_20171006_S\n",
      "1470026_20180502_S\n",
      "1565754_20171128_S\n",
      "1565754_20180403_S\n",
      "1586713_20180309_S\n",
      "1593967_20180424_S\n",
      "1593973_20180427_S\n",
      "1593973_20180504_S\n",
      "1598281_20180508_S\n",
      "1651490_20171010_S\n",
      "1651490_20180206_S\n",
      "1834617_20180501_S\n",
      "1845116_20180403_S\n",
      "623361_20180123_S\n",
      "639354_20171206_S\n",
      "642660_20180601_S\n",
      "650003_20180207_S\n",
      "658355_20171204_S\n",
      "658355_20180122_S\n",
      "658355_20180321_S\n",
      "673895_20180122_S\n",
      "673895_20180205_S\n",
      "676138_20180130_S\n",
      "698917_20171207_S\n",
      "698917_20180128_S\n",
      "698917_20190119_S\n",
      "715927_20180205_S\n",
      "748160_20180321_S\n",
      "748160_20180329_S\n",
      "748699_20180329_S\n",
      "748699_20180410_S\n",
      "752797_20170927_S\n",
      "753522_20180606_S\n",
      "756934_20181218_S\n",
      "763742_20180129_S\n",
      "768745_20171123_S\n",
      "770590_20170925_S\n",
      "770590_20180115_S\n",
      "778851_20171204_S\n",
      "785991_20171129_S\n",
      "785991_20171206_S\n",
      "785991_20180321_S\n",
      "788707_20171213_S\n",
      "788707_20180301_S\n",
      "788707_20180313_S\n",
      "788707_20181116_S\n",
      "802971_20180605_S\n",
      "825012_20181120_S\n",
      "825012_20181126_S\n",
      "875028_20180115_S\n",
      "892355_20180123_S\n",
      "895293_20180502_S\n",
      "983493_20180123_S\n"
     ]
    }
   ],
   "source": [
    "import os\n",
    "\n",
    "i = 1\n",
    "\n",
    "with open(\"minion_mgi_sample_names.txt\", \"w\") as samplesfile:\n",
    "    with open(\"minion-sample.txt\", \"r\") as myfile:\n",
    "        for line in myfile.readlines():\n",
    "            long_read_sample_name = line.strip()\n",
    "            strings = long_read_sample_name.split(\"_\")\n",
    "            sample_name = f\"{strings[0]}_{strings[1]}_{strings[2]}\"\n",
    "            \n",
    "            R1 = f\"/home/nala0006/scratch/atavide-dev/atavide/atavide.out/prinseq_after_hostremoval/{sample_name}_good_out_R1.fastq\"\n",
    "            R2 = f\"/home/nala0006/scratch/atavide-dev/atavide/atavide.out/prinseq_after_hostremoval/{sample_name}_good_out_R2.fastq\"\n",
    "            \n",
    "            if os.path.isfile(R1) and os.path.isfile(R2):\n",
    "                print(i, sample_name)\n",
    "                samplesfile.write(f\"{sample_name},/home/nala0006/scratch/atavide-dev/minion/qc-host-removal/{long_read_sample_name},/home/nala0006/scratch/atavide-dev/atavide/atavide.out/prinseq_after_hostremoval/{sample_name}_good_out_R1.fastq,/home/nala0006/scratch/atavide-dev/atavide/atavide.out/prinseq_after_hostremoval/{sample_name}_good_out_R2.fastq\\n\")\n",
    "                i+=1\n",
    "                "
   ]
  },
  {
   "cell_type": "code",
   "execution_count": null,
   "id": "f0f9681c",
   "metadata": {},
   "outputs": [],
   "source": []
  }
 ],
 "metadata": {
  "kernelspec": {
   "display_name": "Python 3 (ipykernel)",
   "language": "python",
   "name": "python3"
  },
  "language_info": {
   "codemirror_mode": {
    "name": "ipython",
    "version": 3
   },
   "file_extension": ".py",
   "mimetype": "text/x-python",
   "name": "python",
   "nbconvert_exporter": "python",
   "pygments_lexer": "ipython3",
   "version": "3.9.12"
  }
 },
 "nbformat": 4,
 "nbformat_minor": 5
}
